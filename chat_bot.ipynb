{
 "cells": [
  {
   "cell_type": "code",
   "execution_count": 1,
   "metadata": {},
   "outputs": [
    {
     "data": {
      "text/plain": [
       "True"
      ]
     },
     "execution_count": 1,
     "metadata": {},
     "output_type": "execute_result"
    }
   ],
   "source": [
    "from langchain.pydantic_v1 import BaseModel, Field\n",
    "from langchain.tools import BaseTool, StructuredTool, tool\n",
    "from langchain import hub\n",
    "from langchain_openai import ChatOpenAI\n",
    "from langchain.agents import AgentExecutor, create_openai_functions_agent\n",
    "from langchain_core.runnables.history import RunnableWithMessageHistory\n",
    "import uuid\n",
    "import json\n",
    "from langchain_community.chat_message_histories.mongodb import MongoDBChatMessageHistory\n",
    "\n",
    "from typing import Optional, List, Literal\n",
    "import re\n",
    "from dotenv import load_dotenv\n",
    "import os\n",
    "load_dotenv()"
   ]
  },
  {
   "cell_type": "code",
   "execution_count": 14,
   "metadata": {},
   "outputs": [
    {
     "data": {
      "text/plain": [
       "[{'name': None, 'quantity': None}, {'name': None, 'quantity': None}]"
      ]
     },
     "execution_count": 14,
     "metadata": {},
     "output_type": "execute_result"
    }
   ],
   "source": [
    "a = ProductItem()\n",
    "[dict(x) for x in [a, a]]"
   ]
  },
  {
   "cell_type": "code",
   "execution_count": 2,
   "metadata": {},
   "outputs": [],
   "source": [
    "data = json.load(open('chickendata.json', 'r'))\n",
    "product_list = list(data.keys())\n",
    "Argument = Literal['1']\n",
    "Argument.__args__ = tuple(product_list)\n",
    "\n",
    "class ProductItem(BaseModel):\n",
    "    name: Optional[Argument] = Field(description=\"tên sản phẩm\")\n",
    "    quantity: Optional[int] = Field(description=\"số lượng muốn mua\")\n",
    "\n",
    "class Serve(BaseModel):\n",
    "    # customer_name: Optional[str] = Field(description=\"tên của khách hàng\")\n",
    "    customer_phone_number: Optional[str] = Field(description=\"số điện thoại của khách hàng (không phải số điện thoại của Aroma)\")\n",
    "    order: Optional[List[ProductItem]] = Field(description=\"Một đơn hàng chứa danh sách các sản phẩm.\")\n",
    "\n",
    "class CheckInventory(BaseModel):\n",
    "    order: List[ProductItem] = Field(description=\"Một đơn hàng chứa danh sách các sản phẩm.\")\n",
    "\n",
    "@tool(\"serve\", args_schema=Serve,\n",
    "      # return_direct=True #Will return the direct result in string form\n",
    "      )\n",
    "def serve(customer_phone_number=\"\", order=[]):\n",
    "    \"\"\"được sử dụng khi khách hàng muốn mua bánh hoặc order sản phẩm\"\"\"\n",
    "    if \"918815325\" in customer_phone_number:\n",
    "        if order!=[]:\n",
    "            return \"Bạn hay cung cấp đầy đủ thông tin về số điện thoại\"\n",
    "        return \"\"      \n",
    "    \n",
    "    if all([customer_phone_number!=\"\", order!=[] and order!=None]):\n",
    "        # return check_inventory(customer_phone_number, order)\n",
    "        if re.match(r'[+]?[\\d\\s]{9,20}', customer_phone_number) == None:\n",
    "            return \"Số điện thoại không hợp lệ, vui lòng nhập lại.\"\n",
    "        return trigger(customer_phone_number, order)\n",
    "    elif all([customer_phone_number==\"\", order==[] or order==None]):\n",
    "        return \"\"\n",
    "    \n",
    "    response = f'Bạn hay cung cấp đầy đủ thông tin về {\"số điện thoại\" if customer_phone_number==\"\" else \"\"}, {\"đơn hàng (loại bánh + số lượng)\" if order==[] else \"\"}.'\n",
    "    return response\n",
    "\n",
    "def check_inventory(customer_phone_number, order=[]):\n",
    "    \"\"\"\"\"\"\n",
    "    deficient_product_list = []\n",
    "    order = {x.name:x.quantity for x in order}\n",
    "    print(order)\n",
    "    for product in list(order.keys()):\n",
    "        if product not in product_list:\n",
    "            return f\"sản phẩn {product} không tồn tại. xin hãy chọn một trong các sản phẩm sau (nêu kèm số lượng): {data.keys()}\"\n",
    "        if order[product]>data[product]:\n",
    "            deficient_product_list.append(product)\n",
    "    if deficient_product_list==[]:\n",
    "        return trigger(customer_phone_number, order)\n",
    "    else:\n",
    "        return \"Hiện tại:\\n\" + '\\n'.join([f\"Bánh {x} chỉ còn {data[x]} chiếc\" for x in deficient_product_list]) +\"\\n Phiền bạn nhập lại số lượng sao cho phù hợp bạn ha ^^.\"\n",
    "\n",
    "\n",
    "def trigger(customer_phone_number, order):\n",
    "    \"\"\"\"\"\"\n",
    "    \n",
    "    return f\"Order thành công, chờ nghe điện thoại.\\n gửi lại cho khách như sau:\\nThông tin đơn hàng:\\n số điện thoại: {customer_phone_number} \\n danh sách sản phẩm: {order}\"\n",
    "\n",
    "@tool(\"send_menu\")\n",
    "def send_menu():\n",
    "    \"\"\"Được sử dụng khi khách hỏi về menu, thực đơn, quán có món gì, bánh gì ngon.\"\"\"\n",
    "    return f\"Aroma xin gửi thực đơn ạ: \\n {[x for x in data]}\"\n",
    "\n",
    "tools = [\n",
    "    serve,\n",
    "    send_menu\n",
    "]"
   ]
  },
  {
   "cell_type": "code",
   "execution_count": 3,
   "metadata": {},
   "outputs": [
    {
     "data": {
      "text/plain": [
       "<re.Match object; span=(0, 10), match='0777080706'>"
      ]
     },
     "execution_count": 3,
     "metadata": {},
     "output_type": "execute_result"
    }
   ],
   "source": [
    "import re\n",
    "re.match(r'[+]?[\\d\\s]{9,20}', '0777080706')"
   ]
  },
  {
   "cell_type": "code",
   "execution_count": 4,
   "metadata": {},
   "outputs": [],
   "source": [
    "prompt = hub.pull(\"hwchase17/openai-tools-agent\")\n",
    "\n",
    "system_template =\"\"\"\n",
    "\n",
    "Bạn là một người trợ lý ảo có nhiệm vụ nhận order của khách hàng cho tiệm bánh Aroma.\n",
    "\n",
    "Một vài thông tin về tiệm bánh Aroma:\n",
    "- Địa chỉ: 325a Đ. Điện Biên Phủ, Phường 15, Bình Thạnh, Thành phố Hồ Chí Minh [https://maps.app.goo.gl/6Y7jEWVKbu1Rs2Ww8]\n",
    "- Số điện thoại (phone): 0918815325\n",
    "\n",
    "Tuân thử những điều sau:\n",
    "1/ Giới thiệu mình là trợ lý ảo của tiệm bánh Aroma Bakery\n",
    "2/ Nếu khách hàng muốn mua bánh, sử dụng `serve` ngay lập tức.\n",
    "3/ Nếu khách hàng muốn xem thực đơn, sử dụng `send_menu` ngay lập tức.\n",
    "\"\"\"\n",
    "prompt.messages[0] = prompt.messages[0].from_template(system_template)\n",
    "\n",
    "llm = ChatOpenAI(model=\"gpt-3.5-turbo-1106\", temperature=0, openai_api_key = os.getenv('OPENAI_API_KEY'))\n",
    "\n",
    "agent = create_openai_functions_agent(\n",
    "    tools = tools,\n",
    "    llm = llm,\n",
    "    prompt = prompt\n",
    ")\n",
    "\n",
    "agent_executor = AgentExecutor(agent=agent, tools=tools, verbose=True)\n"
   ]
  },
  {
   "cell_type": "code",
   "execution_count": 5,
   "metadata": {},
   "outputs": [],
   "source": [
    "def trim_messages(history_object):\n",
    "    stored_messages = history_object.messages\n",
    "    if len(stored_messages) <= int(os.getenv('NO_MESSAGES_REMEMBER')):\n",
    "        return history_object\n",
    "\n",
    "    history_object.clear()\n",
    "\n",
    "    for message in stored_messages[-int(os.getenv('NO_MESSAGES_REMEMBER')):]:\n",
    "        history_object.add_message(message)\n",
    "\n",
    "    return history_object\n",
    "\n",
    "agent_with_chat_history = RunnableWithMessageHistory(\n",
    "        agent_executor,\n",
    "        lambda session_id: trim_messages(MongoDBChatMessageHistory(\n",
    "            session_id=session_id,\n",
    "            connection_string=os.getenv('MONGODB_CONNECTION_STRING'),\n",
    "            database_name=\"MentalChatApp\",\n",
    "            collection_name=\"chat_history\",\n",
    "        )),\n",
    "        input_messages_key=\"input\",\n",
    "        history_messages_key=\"chat_history\",\n",
    "    )"
   ]
  },
  {
   "cell_type": "code",
   "execution_count": 6,
   "metadata": {},
   "outputs": [],
   "source": [
    "import uuid\n",
    "session_id = uuid.uuid4().__str__()"
   ]
  },
  {
   "cell_type": "code",
   "execution_count": 7,
   "metadata": {},
   "outputs": [
    {
     "name": "stderr",
     "output_type": "stream",
     "text": [
      "C:\\Users\\SANG\\AppData\\Local\\Packages\\PythonSoftwareFoundation.Python.3.10_qbz5n2kfra8p0\\LocalCache\\local-packages\\Python310\\site-packages\\langchain_core\\_api\\deprecation.py:117: LangChainDeprecationWarning: The class `langchain_community.chat_message_histories.mongodb.MongoDBChatMessageHistory` was deprecated in langchain-community 0.0.25 and will be removed in 0.2.0. An updated version of the class exists in the langchain-mongodb package and should be used instead. To use it run `pip install -U langchain-mongodb` and import as `from langchain_mongodb import MongoDBChatMessageHistory`.\n",
      "  warn_deprecated(\n"
     ]
    },
    {
     "name": "stdout",
     "output_type": "stream",
     "text": [
      "\n",
      "\n",
      "\u001b[1m> Entering new AgentExecutor chain...\u001b[0m\n",
      "\u001b[32;1m\u001b[1;3m\n",
      "Invoking: `serve` with `{'customer_phone_number': '0918815325', 'order': [{'name': 'Crossaint', 'quantity': 5}, {'name': 'Tiramisu', 'quantity': 10}]}`\n",
      "\n",
      "\n",
      "\u001b[0m\u001b[36;1m\u001b[1;3m\u001b[0m\u001b[32;1m\u001b[1;3mXin chào Sang, số điện thoại của Aroma là 0918815325. Đơn hàng của bạn đã được ghi nhận. Cảm ơn bạn đã mua sắm tại Aroma Bakery!\u001b[0m\n",
      "\n",
      "\u001b[1m> Finished chain.\u001b[0m\n"
     ]
    },
    {
     "data": {
      "text/plain": [
       "{'input': 'Xin chào tôi tên là Sang\\nTôi số điện thoại của Aroma là gì?\\ncho tôi mua 5 crossaint và 10 bánh tiramisu',\n",
       " 'chat_history': [],\n",
       " 'output': 'Xin chào Sang, số điện thoại của Aroma là 0918815325. Đơn hàng của bạn đã được ghi nhận. Cảm ơn bạn đã mua sắm tại Aroma Bakery!'}"
      ]
     },
     "execution_count": 7,
     "metadata": {},
     "output_type": "execute_result"
    }
   ],
   "source": [
    "agent_with_chat_history.invoke(\n",
    "    {\"input\": 'Xin chào tôi tên là Sang\\nTôi số điện thoại của Aroma là gì?\\ncho tôi mua 5 crossaint và 10 bánh tiramisu'},\n",
    "    config={\"configurable\": {\"session_id\": session_id}},\n",
    ")"
   ]
  },
  {
   "cell_type": "code",
   "execution_count": 42,
   "metadata": {},
   "outputs": [
    {
     "name": "stdout",
     "output_type": "stream",
     "text": [
      "\n",
      "\n",
      "\u001b[1m> Entering new AgentExecutor chain...\u001b[0m\n",
      "\u001b[32;1m\u001b[1;3m\n",
      "Invoking: `serve` with `{}`\n",
      "\n",
      "\n",
      "\u001b[0m\u001b[36;1m\u001b[1;3m\u001b[0m\u001b[32;1m\u001b[1;3mXin lỗi, có vẻ như tôi đã gây hiểu lầm. Để giúp bạn đặt hàng, vui lòng cung cấp số điện thoại của bạn và danh sách sản phẩm bạn muốn mua.\u001b[0m\n",
      "\n",
      "\u001b[1m> Finished chain.\u001b[0m\n"
     ]
    },
    {
     "data": {
      "text/plain": [
       "{'input': 'số điện thoại của Aroma',\n",
       " 'chat_history': [HumanMessage(content='ok thực đơn đê'),\n",
       "  AIMessage(content='Dưới đây là thực đơn của Aroma Bakery:\\n1. Crossaint\\n2. Tiramisu\\n3. Bánh bò\\n\\nNếu bạn muốn đặt hàng, vui lòng cung cấp số điện thoại và danh sách sản phẩm bạn muốn mua.')],\n",
       " 'output': 'Xin lỗi, có vẻ như tôi đã gây hiểu lầm. Để giúp bạn đặt hàng, vui lòng cung cấp số điện thoại của bạn và danh sách sản phẩm bạn muốn mua.'}"
      ]
     },
     "execution_count": 42,
     "metadata": {},
     "output_type": "execute_result"
    }
   ],
   "source": [
    "agent_with_chat_history.invoke(\n",
    "    {\"input\": 'số điện thoại của Aroma'},\n",
    "    config={\"configurable\": {\"session_id\": session_id}},\n",
    ")"
   ]
  },
  {
   "cell_type": "code",
   "execution_count": 43,
   "metadata": {},
   "outputs": [
    {
     "name": "stdout",
     "output_type": "stream",
     "text": [
      "\n",
      "\n",
      "\u001b[1m> Entering new AgentExecutor chain...\u001b[0m\n",
      "\u001b[32;1m\u001b[1;3m\n",
      "Invoking: `serve` with `{'order': [{'name': 'Tiramisu', 'quantity': 70}, {'name': 'Crossaint', 'quantity': 50}]}`\n",
      "\n",
      "\n",
      "\u001b[0m\u001b[36;1m\u001b[1;3mBạn hay cung cấp đầy đủ thông tin về số điện thoại, .\u001b[0m\u001b[32;1m\u001b[1;3mXin lỗi vì sự bất tiện này. Vui lòng cung cấp số điện thoại của bạn để chúng tôi có thể xác nhận đơn hàng của bạn.\u001b[0m\n",
      "\n",
      "\u001b[1m> Finished chain.\u001b[0m\n"
     ]
    },
    {
     "data": {
      "text/plain": [
       "{'input': 'Thêm 70 Bánh Tiramisu ngon vcl và 50 bánh Crossaint.',\n",
       " 'chat_history': [HumanMessage(content='ok thực đơn đê'),\n",
       "  AIMessage(content='Dưới đây là thực đơn của Aroma Bakery:\\n1. Crossaint\\n2. Tiramisu\\n3. Bánh bò\\n\\nNếu bạn muốn đặt hàng, vui lòng cung cấp số điện thoại và danh sách sản phẩm bạn muốn mua.'),\n",
       "  HumanMessage(content='số điện thoại của Aroma'),\n",
       "  AIMessage(content='Xin lỗi, có vẻ như tôi đã gây hiểu lầm. Để giúp bạn đặt hàng, vui lòng cung cấp số điện thoại của bạn và danh sách sản phẩm bạn muốn mua.')],\n",
       " 'output': 'Xin lỗi vì sự bất tiện này. Vui lòng cung cấp số điện thoại của bạn để chúng tôi có thể xác nhận đơn hàng của bạn.'}"
      ]
     },
     "execution_count": 43,
     "metadata": {},
     "output_type": "execute_result"
    }
   ],
   "source": [
    "agent_with_chat_history.invoke(\n",
    "    {\"input\": 'Thêm 70 Bánh Tiramisu ngon vcl và 50 bánh Crossaint.'},\n",
    "    config={\"configurable\": {\"session_id\": session_id}},\n",
    ")"
   ]
  },
  {
   "cell_type": "code",
   "execution_count": 44,
   "metadata": {},
   "outputs": [
    {
     "name": "stdout",
     "output_type": "stream",
     "text": [
      "\n",
      "\n",
      "\u001b[1m> Entering new AgentExecutor chain...\u001b[0m\n",
      "\u001b[32;1m\u001b[1;3m\n",
      "Invoking: `serve` with `{'customer_phone_number': '0777080706', 'order': [{'name': 'Tiramisu', 'quantity': 70}, {'name': 'Crossaint', 'quantity': 50}]}`\n",
      "\n",
      "\n",
      "\u001b[0m\u001b[36;1m\u001b[1;3mOrder thành công, chờ nghe điện thoại.\n",
      " gửi lại cho khách như sau:\n",
      "Thông tin đơn hàng:\n",
      " số điện thoại: 0777080706 \n",
      " danh sách sản phẩm: [ProductItem(name='Tiramisu', quantity=70), ProductItem(name='Crossaint', quantity=50)]\u001b[0m\u001b[32;1m\u001b[1;3mĐơn hàng của bạn đã được ghi nhận. Chúng tôi sẽ liên hệ với bạn sớm nhất có thể để xác nhận đơn hàng. Cảm ơn bạn đã mua sắm tại Aroma Bakery!\u001b[0m\n",
      "\n",
      "\u001b[1m> Finished chain.\u001b[0m\n"
     ]
    },
    {
     "data": {
      "text/plain": [
       "{'input': '0777080706',\n",
       " 'chat_history': [AIMessage(content='Dưới đây là thực đơn của Aroma Bakery:\\n1. Crossaint\\n2. Tiramisu\\n3. Bánh bò\\n\\nNếu bạn muốn đặt hàng, vui lòng cung cấp số điện thoại và danh sách sản phẩm bạn muốn mua.'),\n",
       "  HumanMessage(content='số điện thoại của Aroma'),\n",
       "  AIMessage(content='Xin lỗi, có vẻ như tôi đã gây hiểu lầm. Để giúp bạn đặt hàng, vui lòng cung cấp số điện thoại của bạn và danh sách sản phẩm bạn muốn mua.'),\n",
       "  HumanMessage(content='Thêm 70 Bánh Tiramisu ngon vcl và 50 bánh Crossaint.'),\n",
       "  AIMessage(content='Xin lỗi vì sự bất tiện này. Vui lòng cung cấp số điện thoại của bạn để chúng tôi có thể xác nhận đơn hàng của bạn.')],\n",
       " 'output': 'Đơn hàng của bạn đã được ghi nhận. Chúng tôi sẽ liên hệ với bạn sớm nhất có thể để xác nhận đơn hàng. Cảm ơn bạn đã mua sắm tại Aroma Bakery!'}"
      ]
     },
     "execution_count": 44,
     "metadata": {},
     "output_type": "execute_result"
    }
   ],
   "source": [
    "agent_with_chat_history.invoke(\n",
    "    {\"input\": '0777080706'},\n",
    "    config={\"configurable\": {\"session_id\": session_id}},\n",
    ")"
   ]
  }
 ],
 "metadata": {
  "kernelspec": {
   "display_name": "Python 3",
   "language": "python",
   "name": "python3"
  },
  "language_info": {
   "codemirror_mode": {
    "name": "ipython",
    "version": 3
   },
   "file_extension": ".py",
   "mimetype": "text/x-python",
   "name": "python",
   "nbconvert_exporter": "python",
   "pygments_lexer": "ipython3",
   "version": "3.10.11"
  }
 },
 "nbformat": 4,
 "nbformat_minor": 2
}
